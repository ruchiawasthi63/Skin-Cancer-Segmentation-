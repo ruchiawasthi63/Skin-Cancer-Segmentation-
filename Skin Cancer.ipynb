{
 "cells": [
  {
   "cell_type": "code",
   "execution_count": 2,
   "metadata": {},
   "outputs": [],
   "source": [
    "import numpy as np\n",
    "import matplotlib.pyplot as plt\n",
    "import os\n",
    "import cv2\n",
    "import skimage.io as io\n",
    "import skimage.transform as trans\n",
    "import numpy as np\n",
    "from keras.models import *\n",
    "from keras.layers import *\n",
    "from keras.optimizers import *\n",
    "from keras.callbacks import ModelCheckpoint, LearningRateScheduler\n",
    "from keras import backend as keras"
   ]
  },
  {
   "cell_type": "code",
   "execution_count": null,
   "metadata": {},
   "outputs": [],
   "source": [
    "X = [] #skin cancer image\n",
    "y = [] #mask of skin cancer\n",
    "\n",
    "def create_train_data():\n",
    "    DATADIR = \"C:/Users/Kritagya Nayyar/Downloads/Data/Training\" #local directory for skin cancer original images\n",
    "    DATADIR2 = \"C:/Users/Kritagya Nayyar/Downloads/Data/Truth\" #local directory for skin cancer mask images\n",
    "    IMG_SIZE = 96\n",
    "    \n",
    "\n",
    "    for img in os.listdir(DATADIR):\n",
    "        try:\n",
    "            img_arr=cv2.imread(os.path.join(DATADIR, img), cv2.IMREAD_GRAYSCALE)\n",
    "            new_arr = cv2.resize(img_arr, (IMG_SIZE, IMG_SIZE))\n",
    "            new_arr = new_arr/255.0\n",
    "            X.append(new_arr)\n",
    "        except Exception as e:\n",
    "            pass\n",
    "    for img in os.listdir(DATADIR2):\n",
    "        try:        \n",
    "            truth_img_arr=cv2.imread(os.path.join(DATADIR2, img), cv2.IMREAD_GRAYSCALE)\n",
    "            truth_new_arr = cv2.resize(truth_img_arr, (IMG_SIZE, IMG_SIZE))\n",
    "            truth_new_arr = truth_new_arr/255.0\n",
    "            y.append(truth_new_arr)\n",
    "        except Exception as e:\n",
    "            pass\n",
    "create_train_data()"
   ]
  },
  {
   "cell_type": "code",
   "execution_count": null,
   "metadata": {},
   "outputs": [],
   "source": [
    "X = np.array(X).reshape(-1, 96, 96, 1)\n",
    "y = np.array(y).reshape(-1, 96, 96, 1)"
   ]
  },
  {
   "cell_type": "code",
   "execution_count": null,
   "metadata": {},
   "outputs": [],
   "source": [
    "np.save(\"C:/Users/Kritagya Nayyar/Downloads/Data/X.npy\",X)\n",
    "np.save(\"C:/Users/Kritagya Nayyar/Downloads/Data/y.npy\",y)"
   ]
  },
  {
   "cell_type": "code",
   "execution_count": null,
   "metadata": {},
   "outputs": [],
   "source": [
    "X = np.load(\"C:/Users/Kritagya Nayyar/Downloads/Data/X.npy\")\n",
    "y = np.load(\"C:/Users/Kritagya Nayyar/Downloads/Data/y.npy\")"
   ]
  },
  {
   "cell_type": "code",
   "execution_count": null,
   "metadata": {},
   "outputs": [],
   "source": [
    "def unet(pretrained_weights = None,input_size = (96,96,1)):\n",
    "    inputs = Input(input_size)\n",
    "    \n",
    "    conv1 = Conv2D(32, (3, 3), activation='relu', padding='same')(inputs)\n",
    "    conv1 = Conv2D(32, (3, 3), activation='relu', padding='same')(conv1)\n",
    "    #3x3 matric on i'inputs' - 2 times\n",
    "    pool1 = MaxPooling2D(pool_size=(2, 2))(conv1)\n",
    "    #Pooling - 2x2 matrix applied on conv1\n",
    "\n",
    "    conv2 = Conv2D(64, (3, 3), activation='relu', padding='same')(pool1)\n",
    "    #3x3 matric on pooled data \n",
    "    conv2 = Conv2D(64, (3, 3), activation='relu', padding='same')(conv2)\n",
    "    #3x3 matrix on convolution applied on pooled data\n",
    "    pool2 = MaxPooling2D(pool_size=(2, 2))(conv2)\n",
    "    #Pooling - 2x2 matrix applied on conv2\n",
    "    \n",
    "    conv3 = Conv2D(128, (3, 3), activation='relu', padding='same')(pool2)\n",
    "    #3x3 matric on pooled data\n",
    "    conv3 = Conv2D(128, (3, 3), activation='relu', padding='same')(conv3)\n",
    "    #3x3 matrix on convolution applied on pooled data\n",
    "    pool3 = MaxPooling2D(pool_size=(2, 2))(conv3)\n",
    "    #Pooling - 2x2 matrix applied on conv3\n",
    "\n",
    "    conv4 = Conv2D(256, (3, 3), activation='relu', padding='same')(pool3)\n",
    "    conv4 = Conv2D(256, (3, 3), activation='relu', padding='same')(conv4)\n",
    "    pool4 = MaxPooling2D(pool_size=(2, 2))(conv4)\n",
    "\n",
    "    conv5 = Conv2D(512, (3, 3), activation='relu', padding='same')(pool4)\n",
    "    conv5 = Conv2D(512, (3, 3), activation='relu', padding='same')(conv5)\n",
    "    #image converted to 512 pixels\n",
    "\n",
    "    up6 = concatenate([Conv2DTranspose(256, (2, 2), strides=(2, 2), padding='same')(conv5), conv4], axis=3)\n",
    "    #up convulation aaplied on conv5 (512 pixels) which is to be superimposed with conv 4 (256 pixels) using 2x2 matrix\n",
    "    conv6 = Conv2D(256, (3, 3), activation='relu', padding='same')(up6)\n",
    "    #3x3 matrix on up6 - convert to 256 pixels\n",
    "    conv6 = Conv2D(256, (3, 3), activation='relu', padding='same')(conv6)\n",
    "\n",
    "    up7 = concatenate([Conv2DTranspose(128, (2, 2), strides=(2, 2), padding='same')(conv6), conv3], axis=3)\n",
    "    #up convulation aaplied on conv6 (256 pixels) which is to be superimposed with conv3 (128 pixels) \n",
    "    conv7 = Conv2D(128, (3, 3), activation='relu', padding='same')(up7)\n",
    "    #3x3 matrix on up6 - convert to 128 pixels\n",
    "    conv7 = Conv2D(128, (3, 3), activation='relu', padding='same')(conv7)\n",
    "\n",
    "    up8 = concatenate([Conv2DTranspose(64, (2, 2), strides=(2, 2), padding='same')(conv7), conv2], axis=3)\n",
    "    #up convulation aaplied on conv7 (128 pixels) which is to be superimposed with conv2 (64 pixels)\n",
    "    conv8 = Conv2D(64, (3, 3), activation='relu', padding='same')(up8)\n",
    "    #3x3 matrix on up6 - convert to 64 pixels\n",
    "    conv8 = Conv2D(64, (3, 3), activation='relu', padding='same')(conv8)\n",
    "\n",
    "    up9 = concatenate([Conv2DTranspose(32, (2, 2), strides=(2, 2), padding='same')(conv8), conv1], axis=3)\n",
    "    #up convulation aaplied on conv8 (64 pixels) which is to be superimposed with conv1 (32 pixels)\n",
    "    conv9 = Conv2D(32, (3, 3), activation='relu', padding='same')(up9)\n",
    "    #3x3 matrix on up6 - convert to 32 pixels\n",
    "    conv9 = Conv2D(32, (3, 3), activation='relu', padding='same')(conv9)\n",
    "\n",
    "    conv10 = Conv2D(1, (1, 1), activation='sigmoid')(conv9)\n",
    "    #conv9 converted to the image of original size under sigmoid activation by 1x1 matrix. The matrix is named conv10\n",
    "\n",
    "    model = Model(input = inputs, output = conv10)\n",
    "\n",
    "    model.compile(optimizer = Adam(lr = 1e-4), loss = 'binary_crossentropy', metrics = ['accuracy'])\n",
    "    \n",
    "    return model"
   ]
  },
  {
   "cell_type": "code",
   "execution_count": null,
   "metadata": {},
   "outputs": [],
   "source": [
    "#imgs_train,imgs_mask_train = geneTrainNpy(\"C:/Users/Kritagya Nayyar/Downloads/Data/X.npy\",\"C:/Users/Kritagya Nayyar/Downloads/Data/y.npy\")\n",
    "model = unet()\n",
    "model_checkpoint = ModelCheckpoint('unet_membrane.hdf5', monitor='loss',verbose=1, save_best_only=True)\n",
    "model.fit(X, y, batch_size=2, epochs=5, verbose=1,validation_split=0.2, shuffle=True, callbacks=[model_checkpoint])"
   ]
  },
  {
   "cell_type": "code",
   "execution_count": null,
   "metadata": {},
   "outputs": [],
   "source": [
    "model = model.load_weights('C:/Users/Kritagya Nayyar/Downloads/unet_membrane.hdf5')"
   ]
  },
  {
   "cell_type": "code",
   "execution_count": null,
   "metadata": {},
   "outputs": [],
   "source": [
    "#testing for a singl image\n",
    "arr1=cv2.imread(\"C:/Users/Kritagya Nayyar/Downloads/Data/Training/ISIC_0000000.jpg\", cv2.IMREAD_GRAYSCALE)\n",
    "IMG_SIZE = 96\n",
    "arr = cv2.resize(arr1, (IMG_SIZE, IMG_SIZE))\n",
    "arr = arr/255.0\n",
    "print (arr.shape)\n",
    "arr = arr.reshape(-1, 96, 96, 1)\n",
    "print (arr.shape)"
   ]
  },
  {
   "cell_type": "code",
   "execution_count": null,
   "metadata": {},
   "outputs": [],
   "source": [
    "#fitting testing image in model\n",
    "results = model.predict(arr)\n",
    "print(results.shape)\n",
    "results = results.reshape(96, 96)\n",
    "print(results.shape)\n",
    "print(results)\n",
    "plt.imshow(results, cmap=\"gray\")\n",
    "plt.show()"
   ]
  },
  {
   "cell_type": "code",
   "execution_count": null,
   "metadata": {},
   "outputs": [],
   "source": []
  },
  {
   "cell_type": "code",
   "execution_count": null,
   "metadata": {},
   "outputs": [],
   "source": []
  }
 ],
 "metadata": {
  "kernelspec": {
   "display_name": "Python 3",
   "language": "python",
   "name": "python3"
  },
  "language_info": {
   "codemirror_mode": {
    "name": "ipython",
    "version": 3
   },
   "file_extension": ".py",
   "mimetype": "text/x-python",
   "name": "python",
   "nbconvert_exporter": "python",
   "pygments_lexer": "ipython3",
   "version": "3.6.5"
  }
 },
 "nbformat": 4,
 "nbformat_minor": 2
}
